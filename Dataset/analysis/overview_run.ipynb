{
 "cells": [
  {
   "cell_type": "markdown",
   "id": "4080f1f9",
   "metadata": {},
   "source": [
    "# Overview - Run\n",
    "\n",
    "This notebook provides visualization for a complete run."
   ]
  },
  {
   "cell_type": "code",
   "execution_count": null,
   "id": "564c084d",
   "metadata": {},
   "outputs": [],
   "source": [
    "import pandas as pd\n",
    "import matplotlib.pyplot as plt\n",
    "import numpy as np\n",
    "\n",
    "file_paths = ['../downloaded_files/run-2025-09-14-171046/']\n",
    "file_paths"
   ]
  }
 ],
 "metadata": {
  "kernelspec": {
   "display_name": "venv",
   "language": "python",
   "name": "python3"
  },
  "language_info": {
   "codemirror_mode": {
    "name": "ipython",
    "version": 3
   },
   "file_extension": ".py",
   "mimetype": "text/x-python",
   "name": "python",
   "nbconvert_exporter": "python",
   "pygments_lexer": "ipython3",
   "version": "3.12.3"
  }
 },
 "nbformat": 4,
 "nbformat_minor": 5
}
