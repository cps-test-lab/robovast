{
 "cells": [
  {
   "cell_type": "code",
   "execution_count": null,
   "id": "77070731",
   "metadata": {},
   "outputs": [
    {
     "ename": "NameError",
     "evalue": "name 'ps' is not defined",
     "output_type": "error",
     "traceback": [
      "\u001b[0;31m---------------------------------------------------------------------------\u001b[0m",
      "\u001b[0;31mNameError\u001b[0m                                 Traceback (most recent call last)",
      "Cell \u001b[0;32mIn[3], line 53\u001b[0m\n\u001b[1;32m     50\u001b[0m         mean_p95 \u001b[38;5;241m=\u001b[39m statistics\u001b[38;5;241m.\u001b[39mmean([s[\u001b[38;5;124m\"\u001b[39m\u001b[38;5;124mp95_e2e_ms\u001b[39m\u001b[38;5;124m\"\u001b[39m] \u001b[38;5;28;01mfor\u001b[39;00m s \u001b[38;5;129;01min\u001b[39;00m per_run_summaries \u001b[38;5;28;01mif\u001b[39;00m s[\u001b[38;5;124m\"\u001b[39m\u001b[38;5;124mp95_e2e_ms\u001b[39m\u001b[38;5;124m\"\u001b[39m] \u001b[38;5;241m==\u001b[39m s[\u001b[38;5;124m\"\u001b[39m\u001b[38;5;124mp95_e2e_ms\u001b[39m\u001b[38;5;124m\"\u001b[39m]])\n\u001b[1;32m     51\u001b[0m         mean_mean \u001b[38;5;241m=\u001b[39m statistics\u001b[38;5;241m.\u001b[39mmean([s[\u001b[38;5;124m\"\u001b[39m\u001b[38;5;124mmean_e2e_ms\u001b[39m\u001b[38;5;124m\"\u001b[39m] \u001b[38;5;28;01mfor\u001b[39;00m s \u001b[38;5;129;01min\u001b[39;00m per_run_summaries \u001b[38;5;28;01mif\u001b[39;00m s[\u001b[38;5;124m\"\u001b[39m\u001b[38;5;124mmean_e2e_ms\u001b[39m\u001b[38;5;124m\"\u001b[39m] \u001b[38;5;241m==\u001b[39m s[\u001b[38;5;124m\"\u001b[39m\u001b[38;5;124mmean_e2e_ms\u001b[39m\u001b[38;5;124m\"\u001b[39m]])\n\u001b[1;32m     52\u001b[0m         aggregate\u001b[38;5;241m.\u001b[39mappend({\n\u001b[0;32m---> 53\u001b[0m             \u001b[38;5;124m\"\u001b[39m\u001b[38;5;124mparameter_set\u001b[39m\u001b[38;5;124m\"\u001b[39m: \u001b[43mps\u001b[49m\u001b[38;5;241m.\u001b[39mname,\n\u001b[1;32m     54\u001b[0m             \u001b[38;5;124m\"\u001b[39m\u001b[38;5;124mmean_success_rate\u001b[39m\u001b[38;5;124m\"\u001b[39m: mean_success,\n\u001b[1;32m     55\u001b[0m             \u001b[38;5;124m\"\u001b[39m\u001b[38;5;124mmean_p95_e2e_ms\u001b[39m\u001b[38;5;124m\"\u001b[39m: mean_p95,\n\u001b[1;32m     56\u001b[0m             \u001b[38;5;124m\"\u001b[39m\u001b[38;5;124mmean_mean_e2e_ms\u001b[39m\u001b[38;5;124m\"\u001b[39m: mean_mean,\n\u001b[1;32m     57\u001b[0m             \u001b[38;5;124m\"\u001b[39m\u001b[38;5;124mnum_runs\u001b[39m\u001b[38;5;124m\"\u001b[39m: \u001b[38;5;28mlen\u001b[39m(per_run_summaries)\n\u001b[1;32m     58\u001b[0m         })\n\u001b[1;32m     60\u001b[0m aggregate\n",
      "\u001b[0;31mNameError\u001b[0m: name 'ps' is not defined"
     ]
    }
   ],
   "source": [
    "from pathlib import Path\n",
    "import csv\n",
    "import statistics\n",
    "from typing import List, Dict, Tuple\n",
    "import re\n",
    "\n",
    "import matplotlib.pyplot as plt\n",
    "\n",
    "DATA_DIR = '../../downloaded_files/run-2025-10-22-074700'\n",
    "\n",
    "def read_csv_folder(folder: Path) -> List[Dict]:\n",
    "    rows = []\n",
    "    for p in sorted(folder.glob(\"out.csv\")):\n",
    "        with p.open(\"r\", newline=\"\") as f:\n",
    "            reader = csv.DictReader(f)\n",
    "            for row in reader:\n",
    "                row[\"ok\"] = row[\"ok\"] in (\"1\", \"True\", \"true\")\n",
    "                # numeric conversions (best-effort)\n",
    "                for k in (\"e2e_ms\", \"server_latency_ms\", \"timeout_ms\", \"fail\"):\n",
    "                    if row.get(k) not in (None, \"\"):\n",
    "                        try:\n",
    "                            row[k] = float(row[k])\n",
    "                        except Exception:\n",
    "                            pass\n",
    "                rows.append(row)\n",
    "    return rows\n",
    "\n",
    "def summarize(results: List[Dict]) -> Dict[str, float]:\n",
    "    n = len(results)\n",
    "    ok = sum(1 for r in results if r.get(\"ok\"))\n",
    "    e2e_vals = [r[\"e2e_ms\"] for r in results if isinstance(r.get(\"e2e_ms\"), (int, float))]\n",
    "    mean_e2e = statistics.mean(e2e_vals) if e2e_vals else float(\"nan\")\n",
    "    p95 = (sorted(e2e_vals)[max(0, int(0.95 * len(e2e_vals)) - 1)] if e2e_vals else float(\"nan\"))\n",
    "    return {\"n\": n, \"ok\": ok, \"success_rate\": (ok / n) if n else float(\"nan\"), \"mean_e2e_ms\": mean_e2e, \"p95_e2e_ms\": p95}\n",
    "\n",
    "# Aggregate per parameter-set\n",
    "variants = sorted([d for d in Path(DATA_DIR).iterdir() if d.is_dir()])\n",
    "aggregate = []\n",
    "for vs in variants:\n",
    "    single_runs = sorted([d for d in vs.iterdir() if d.is_dir()])\n",
    "    per_run_summaries = []\n",
    "    for sr in single_runs:\n",
    "        rows = read_csv_folder(sr)\n",
    "        s = summarize(rows)\n",
    "        s[\"single_run_path\"] = str(sr)\n",
    "        per_run_summaries.append(s)\n",
    "    # average across repeats\n",
    "    if per_run_summaries:\n",
    "        mean_success = statistics.mean([s[\"success_rate\"] for s in per_run_summaries if s[\"success_rate\"] == s[\"success_rate\"]])\n",
    "        mean_p95 = statistics.mean([s[\"p95_e2e_ms\"] for s in per_run_summaries if s[\"p95_e2e_ms\"] == s[\"p95_e2e_ms\"]])\n",
    "        mean_mean = statistics.mean([s[\"mean_e2e_ms\"] for s in per_run_summaries if s[\"mean_e2e_ms\"] == s[\"mean_e2e_ms\"]])\n",
    "        aggregate.append({\n",
    "            \"parameter_set\": vs.name,\n",
    "            \"mean_success_rate\": mean_success,\n",
    "            \"mean_p95_e2e_ms\": mean_p95,\n",
    "            \"mean_mean_e2e_ms\": mean_mean,\n",
    "            \"num_runs\": len(per_run_summaries)\n",
    "        })\n",
    "\n",
    "# aggregate"
   ]
  },
  {
   "cell_type": "code",
   "execution_count": null,
   "id": "749e1750",
   "metadata": {},
   "outputs": [],
   "source": [
    "# Bar chart: mean success rate per parameter set\n",
    "labels = [row[\"parameter_set\"] for row in aggregate]\n",
    "vals = [row[\"mean_success_rate\"] for row in aggregate]\n",
    "\n",
    "plt.figure()\n",
    "plt.bar(labels, vals)\n",
    "plt.ylabel(\"Mean success rate\")\n",
    "plt.title(\"Sweep: Success Rate by Parameter Set\")\n",
    "plt.ylim(0, 1)\n",
    "plt.xticks(rotation=45, ha=\"right\")\n",
    "plt.tight_layout()\n",
    "plt.show()"
   ]
  },
  {
   "cell_type": "code",
   "execution_count": null,
   "id": "dc5e1782",
   "metadata": {},
   "outputs": [],
   "source": [
    "# Bar chart: mean p95 e2e latency per parameter set\n",
    "labels = [row[\"parameter_set\"] for row in aggregate]\n",
    "vals = [row[\"mean_p95_e2e_ms\"] for row in aggregate]\n",
    "\n",
    "plt.figure()\n",
    "plt.bar(labels, vals)\n",
    "plt.ylabel(\"Mean p95 E2E latency (ms)\")\n",
    "plt.title(\"Sweep: p95 E2E Latency by Parameter Set\")\n",
    "plt.xticks(rotation=45, ha=\"right\")\n",
    "plt.tight_layout()\n",
    "plt.show()"
   ]
  }
 ],
 "metadata": {
  "kernelspec": {
   "display_name": "Python 3",
   "language": "python",
   "name": "python3"
  },
  "language_info": {
   "codemirror_mode": {
    "name": "ipython",
    "version": 3
   },
   "file_extension": ".py",
   "mimetype": "text/x-python",
   "name": "python",
   "nbconvert_exporter": "python",
   "pygments_lexer": "ipython3",
   "version": "3.12.3"
  }
 },
 "nbformat": 4,
 "nbformat_minor": 5
}
