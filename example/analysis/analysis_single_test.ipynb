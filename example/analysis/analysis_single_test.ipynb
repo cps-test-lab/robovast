{
 "cells": [
  {
   "cell_type": "code",
   "execution_count": null,
   "id": "85758911",
   "metadata": {},
   "outputs": [],
   "source": [
    "from pathlib import Path\n",
    "import csv\n",
    "import json\n",
    "import math\n",
    "import statistics\n",
    "from typing import List, Dict\n",
    "\n",
    "import matplotlib.pyplot as plt\n",
    "\n",
    "# Configure: point this to the folder holding CSV files for ONE run\n",
    "DATA_DIR = 'run-001/parameter-set-1/single-run'\n",
    "\n",
    "def read_csv_folder(folder: str) -> List[Dict]:\n",
    "    rows = []\n",
    "    print(f\"Reading CSV files from folder: {folder}\")\n",
    "    for p in sorted(Path(folder).glob(\"*.csv\")):\n",
    "        with p.open(\"r\", newline=\"\") as f:\n",
    "            reader = csv.DictReader(f)\n",
    "            for row in reader:\n",
    "                # Convert types where sensible\n",
    "                row[\"ok\"] = row[\"ok\"] in (\"1\", \"True\", \"true\")\n",
    "                for k in (\"e2e_ms\", \"server_latency_ms\", \"timeout_ms\"):\n",
    "                    if row.get(k):\n",
    "                        try:\n",
    "                            row[k] = float(row[k])\n",
    "                        except Exception:\n",
    "                            row[k] = None\n",
    "                for k in (\"delay_ms\", \"jitter_ms\", \"payload_kb\", \"concurrency\", \"requests\"):\n",
    "                    if row.get(k):\n",
    "                        try:\n",
    "                            row[k] = int(float(row[k]))\n",
    "                        except Exception:\n",
    "                            pass\n",
    "                rows.append(row)\n",
    "    return rows\n",
    "\n",
    "results = read_csv_folder(DATA_DIR)\n",
    "len(results)"
   ]
  },
  {
   "cell_type": "code",
   "execution_count": null,
   "id": "eee44d48",
   "metadata": {},
   "outputs": [],
   "source": [
    "# Summary metrics for the single run\n",
    "def summarize(results: List[Dict]) -> Dict[str, float]:\n",
    "    n = len(results)\n",
    "    ok = sum(1 for r in results if r.get(\"ok\"))\n",
    "    e2e_vals = [r[\"e2e_ms\"] for r in results if isinstance(r.get(\"e2e_ms\"), (int, float))]\n",
    "    success_rate = ok / n if n else float(\"nan\")\n",
    "    mean_e2e = statistics.mean(e2e_vals) if e2e_vals else float(\"nan\")\n",
    "    p95 = (sorted(e2e_vals)[max(0, int(0.95 * len(e2e_vals)) - 1)] if e2e_vals else float(\"nan\"))\n",
    "    return {\"n\": n, \"ok\": ok, \"success_rate\": success_rate, \"mean_e2e_ms\": mean_e2e, \"p95_e2e_ms\": p95}\n",
    "\n",
    "summary = summarize(results)\n",
    "summary"
   ]
  },
  {
   "cell_type": "code",
   "execution_count": null,
   "id": "fc188d40",
   "metadata": {},
   "outputs": [],
   "source": [
    "# Histogram of end-to-end latency\n",
    "e2e_vals = [r[\"e2e_ms\"] for r in results if isinstance(r.get(\"e2e_ms\"), (int, float))]\n",
    "plt.figure()\n",
    "plt.hist(e2e_vals, bins=30)\n",
    "plt.xlabel(\"End-to-end latency (ms)\")\n",
    "plt.ylabel(\"Count\")\n",
    "plt.title(\"Single Run: E2E Latency Distribution\")\n",
    "plt.show()"
   ]
  },
  {
   "cell_type": "code",
   "execution_count": null,
   "id": "1ff4e891",
   "metadata": {},
   "outputs": [],
   "source": [
    "# Request-by-request latency (trace)\n",
    "ids = [int(r[\"req_id\"]) if r.get(\"req_id\") not in (None, \"\") else i for i, r in enumerate(results)]\n",
    "e2e_vals = [r[\"e2e_ms\"] for r in results if isinstance(r.get(\"e2e_ms\"), (int, float))]\n",
    "\n",
    "plt.figure()\n",
    "plt.plot(ids[:len(e2e_vals)], e2e_vals, marker=\".\")\n",
    "plt.xlabel(\"Request index\")\n",
    "plt.ylabel(\"E2E latency (ms)\")\n",
    "plt.title(\"Single Run: Request Latency Trace\")\n",
    "plt.show()"
   ]
  }
 ],
 "metadata": {
  "language_info": {
   "name": "python"
  }
 },
 "nbformat": 4,
 "nbformat_minor": 5
}
