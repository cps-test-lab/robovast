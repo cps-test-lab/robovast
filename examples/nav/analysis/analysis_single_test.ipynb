{
 "cells": [
  {
   "cell_type": "code",
   "execution_count": null,
   "id": "f2c13db6",
   "metadata": {},
   "outputs": [],
   "source": [
    "from robovast.common.analysis import read_output_files, read_output_csv\n",
    "import pandas as pd\n",
    "\n",
    "DATA_DIR = ''\n",
    "\n",
    "df_robot = read_output_files(DATA_DIR, lambda test_dir: read_output_csv(test_dir, \"base_link.csv\"))\n",
    "\n",
    "df_groundtruth = read_output_files(DATA_DIR, lambda test_dir: read_output_csv(test_dir, \"turtlebot4_base_link_gt.csv\"))\n",
    "df_groundtruth['position.x'] = df_groundtruth['position.x'] + 8\n"
   ]
  },
  {
   "cell_type": "code",
   "execution_count": null,
   "id": "85758911",
   "metadata": {},
   "outputs": [],
   "source": [
    "from robovast_nav.robovast_nav.gui.map_visualizer import MapVisualizer\n",
    "viz = MapVisualizer()\n",
    "\n",
    "viz.load_map(\"/opt/ros/jazzy/share/nav2_bringup/maps/depot.yaml\")\n",
    "viz.create_figure()\n",
    "viz.draw_path(list(zip(df_groundtruth['position.x'], df_groundtruth['position.y'])), color='blue')\n",
    "viz.draw_path(list(zip(df_robot['position.x'], df_robot['position.y'])), color='red')\n"
   ]
  }
 ],
 "metadata": {
  "kernelspec": {
   "display_name": "robovast-zq8JDN7z-py3.12",
   "language": "python",
   "name": "python3"
  },
  "language_info": {
   "codemirror_mode": {
    "name": "ipython",
    "version": 3
   },
   "file_extension": ".py",
   "mimetype": "text/x-python",
   "name": "python",
   "nbconvert_exporter": "python",
   "pygments_lexer": "ipython3",
   "version": "3.12.3"
  }
 },
 "nbformat": 4,
 "nbformat_minor": 5
}
